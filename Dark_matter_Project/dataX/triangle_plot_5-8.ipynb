{
 "cells": [
  {
   "cell_type": "markdown",
   "metadata": {},
   "source": [
    "# Corner plot "
   ]
  },
  {
   "cell_type": "code",
   "execution_count": 1,
   "metadata": {},
   "outputs": [],
   "source": [
    "# Select the data file \n",
    "i = 8"
   ]
  },
  {
   "cell_type": "code",
   "execution_count": 2,
   "metadata": {},
   "outputs": [
    {
     "data": {
      "text/plain": [
       "(5000, 14)"
      ]
     },
     "execution_count": 2,
     "metadata": {},
     "output_type": "execute_result"
    }
   ],
   "source": [
    "import matplotlib\n",
    "import numpy as np\n",
    "\n",
    "data = np.load('bestfit_params_'+str(i)+'.npy')\n",
    "data.shape\n"
   ]
  },
  {
   "cell_type": "code",
   "execution_count": 3,
   "metadata": {},
   "outputs": [
    {
     "name": "stdout",
     "output_type": "stream",
     "text": [
      "[2.97500000e+03 1.99852215e-25 2.86437540e-37 2.59964272e-35\n",
      " 5.83089133e-35 4.20774526e-37 6.73783251e-35 9.67151486e-01\n",
      " 1.12276854e-10 2.77555756e-12 6.85272394e-09 4.57617277e-10\n",
      " 1.83997811e+01 2.23339123e+00]\n"
     ]
    }
   ],
   "source": [
    "#data[:,0] = data[:,0]/(1e+3)\n",
    "#data[:,1] = data[:,1]/(1e-25)\n",
    "#data[:,2] = data[:,2]/(1e-24)\n",
    "#data[:,3] = data[:,3]/(1e-25)\n",
    "\n",
    "'''\n",
    "DM mass = 3\n",
    "sigmav_line = 4.8362149999999996e-26\n",
    "sigmav_WW = 3.28475e-25\n",
    "sigmav_ZZ = 1.15838e-25\n",
    "sigmav_bb = 0\n",
    "sigmav_hh = 0\n",
    "sigmav_tt = 0\n",
    "others = 1\n",
    "'''\n",
    "\n",
    "print(data[1,:])"
   ]
  },
  {
   "cell_type": "code",
   "execution_count": 4,
   "metadata": {},
   "outputs": [
    {
     "data": {
      "text/plain": [
       "(5000, 7)"
      ]
     },
     "execution_count": 4,
     "metadata": {},
     "output_type": "execute_result"
    }
   ],
   "source": [
    "dm_params = data[:,0:7]\n",
    "dm_params.shape"
   ]
  },
  {
   "cell_type": "code",
   "execution_count": 5,
   "metadata": {},
   "outputs": [
    {
     "data": {
      "text/plain": [
       "array([2.97500000e+03, 1.99311442e-25, 1.06914477e-36, 1.26659794e-35,\n",
       "       7.76823050e-36, 4.94804198e-35, 2.19507745e-35])"
      ]
     },
     "execution_count": 5,
     "metadata": {},
     "output_type": "execute_result"
    }
   ],
   "source": [
    "dm_params[0]"
   ]
  },
  {
   "cell_type": "code",
   "execution_count": 6,
   "metadata": {},
   "outputs": [
    {
     "ename": "ModuleNotFoundError",
     "evalue": "No module named 'corner'",
     "output_type": "error",
     "traceback": [
      "\u001b[1;31m---------------------------------------------------------------------------\u001b[0m",
      "\u001b[1;31mModuleNotFoundError\u001b[0m                       Traceback (most recent call last)",
      "\u001b[1;32mC:\\Users\\GEORGE~1\\AppData\\Local\\Temp/ipykernel_11888/3170922107.py\u001b[0m in \u001b[0;36m<module>\u001b[1;34m\u001b[0m\n\u001b[1;32m----> 1\u001b[1;33m \u001b[1;32mimport\u001b[0m \u001b[0mcorner\u001b[0m \u001b[1;31m#install as \"> conda install -c astropy corner\"\u001b[0m\u001b[1;33m\u001b[0m\u001b[1;33m\u001b[0m\u001b[0m\n\u001b[0m",
      "\u001b[1;31mModuleNotFoundError\u001b[0m: No module named 'corner'"
     ]
    }
   ],
   "source": [
    "import corner #install as \"> conda install -c astropy corner\""
   ]
  },
  {
   "cell_type": "code",
   "execution_count": 7,
   "metadata": {},
   "outputs": [
    {
     "ename": "NameError",
     "evalue": "name 'corner' is not defined",
     "output_type": "error",
     "traceback": [
      "\u001b[1;31m---------------------------------------------------------------------------\u001b[0m",
      "\u001b[1;31mNameError\u001b[0m                                 Traceback (most recent call last)",
      "\u001b[1;32mC:\\Users\\GEORGE~1\\AppData\\Local\\Temp/ipykernel_11888/3842268064.py\u001b[0m in \u001b[0;36m<module>\u001b[1;34m\u001b[0m\n\u001b[0;32m     21\u001b[0m \u001b[1;33m\u001b[0m\u001b[0m\n\u001b[0;32m     22\u001b[0m \u001b[1;33m\u001b[0m\u001b[0m\n\u001b[1;32m---> 23\u001b[1;33m figure = corner.corner(dm_params, labels=names, truths=truths, #range=range,\n\u001b[0m\u001b[0;32m     24\u001b[0m                        \u001b[0mplot_contours\u001b[0m\u001b[1;33m=\u001b[0m\u001b[1;32mFalse\u001b[0m\u001b[1;33m,\u001b[0m\u001b[0msmooth\u001b[0m\u001b[1;33m=\u001b[0m\u001b[1;36m2.0\u001b[0m\u001b[1;33m,\u001b[0m \u001b[0mcolor\u001b[0m\u001b[1;33m=\u001b[0m\u001b[1;34m'black'\u001b[0m\u001b[1;33m,\u001b[0m\u001b[1;33m\u001b[0m\u001b[1;33m\u001b[0m\u001b[0m\n\u001b[0;32m     25\u001b[0m                        \u001b[0mlabel_kwargs\u001b[0m\u001b[1;33m=\u001b[0m\u001b[1;33m{\u001b[0m\u001b[1;34m'fontsize'\u001b[0m\u001b[1;33m:\u001b[0m\u001b[1;36m20\u001b[0m\u001b[1;33m}\u001b[0m\u001b[1;33m,\u001b[0m \u001b[0mtruth_color\u001b[0m\u001b[1;33m=\u001b[0m\u001b[1;34m'red'\u001b[0m\u001b[1;33m,\u001b[0m\u001b[1;33m\u001b[0m\u001b[1;33m\u001b[0m\u001b[0m\n",
      "\u001b[1;31mNameError\u001b[0m: name 'corner' is not defined"
     ]
    }
   ],
   "source": [
    "names = [r'Mass [TeV]',\n",
    "         r'$\\langle\\sigma v \\rangle_{\\gamma\\gamma}$',\n",
    "         r'$\\langle\\sigma v \\rangle_{W^{-}W^{+}}$',\n",
    "         r'$\\langle\\sigma v \\rangle_{Z^0 Z^0}$',\n",
    "         r'$\\langle\\sigma v \\rangle_{b\\bar{b}}$',\n",
    "         r'$\\langle\\sigma v \\rangle_{hh}}$',\n",
    "         r'$\\langle\\sigma v \\rangle_{t\\bar{t}}$']\n",
    "'''\n",
    "         r'$c_1$',\n",
    "         r'$c_2$',\n",
    "         r'$c_3$',\n",
    "         r'$c_4$',\n",
    "         r'$c_5$',\n",
    "         r'$c_6$',\n",
    "         r'$c_7$']\n",
    "'''\n",
    "\n",
    "range = [(2650,2750), (8.1e-26,2e-25), (3e-25,2e-24), (4e-26,4e-25), (4e-31,4e-30), (4e-30,4e-29), (4e-27,4e-26)]\n",
    "\n",
    "truths = [3.0e3, 4.8362149999999996e-26, 3.28475e-25, 1.15838e-25, 0, 0, 0] #, 1, 1, 1, 1, 1, 1, 1]\n",
    "\n",
    "\n",
    "figure = corner.corner(dm_params, labels=names, truths=truths, #range=range,\n",
    "                       plot_contours=False,smooth=2.0, color='black',\n",
    "                       label_kwargs={'fontsize':20}, truth_color='red',\n",
    "                       use_math_text=True, max_n_ticks=3, labelpad=0.13)\n",
    "figure.subplots_adjust(left=0.12, bottom=0.08, right=0.85, top=0.92, wspace=0.05, hspace=0.15)\n",
    "\n",
    "# Get the axes\n",
    "ndim = int(np.sqrt(len(figure.axes)))\n",
    "axes = np.array(figure.axes).reshape((ndim, ndim))\n",
    "\n",
    "# Bigger tick labels\n",
    "for ax in axes[1:, 0]:\n",
    "    for tick in ax.yaxis.get_major_ticks():\n",
    "        tick.label.set_fontsize(18)\n",
    "formatter = matplotlib.ticker.ScalarFormatter(useOffset=False)\n",
    "ax.yaxis.set_major_formatter(formatter)\n",
    "for ax in axes[-1, :]:\n",
    "    for tick in ax.xaxis.get_major_ticks():\n",
    "        tick.label.set_fontsize(18)\n",
    "formatter = matplotlib.ticker.ScalarFormatter(useOffset=False)\n",
    "ax.xaxis.set_major_formatter(formatter)\n",
    "\n",
    "\n",
    "figure.savefig('corner_'+str(i)+'.pdf')"
   ]
  },
  {
   "cell_type": "code",
   "execution_count": null,
   "metadata": {},
   "outputs": [],
   "source": []
  }
 ],
 "metadata": {
  "interpreter": {
   "hash": "21d66a680a1a36fdca53930c0985773d6b07ff4ddb6ad95743766e03f06b5d32"
  },
  "kernelspec": {
   "display_name": "Python 3 (ipykernel)",
   "language": "python",
   "name": "python3"
  },
  "language_info": {
   "codemirror_mode": {
    "name": "ipython",
    "version": 3
   },
   "file_extension": ".py",
   "mimetype": "text/x-python",
   "name": "python",
   "nbconvert_exporter": "python",
   "pygments_lexer": "ipython3",
   "version": "3.8.12"
  }
 },
 "nbformat": 4,
 "nbformat_minor": 2
}
